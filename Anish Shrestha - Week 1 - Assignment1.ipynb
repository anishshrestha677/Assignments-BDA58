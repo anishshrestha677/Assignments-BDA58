{
 "cells": [
  {
   "cell_type": "markdown",
   "id": "3c9ecb7c-bb97-48b0-97d4-2986c232d2b8",
   "metadata": {},
   "source": [
    "# Python with Jupyter \n",
    "# Assignment 1"
   ]
  },
  {
   "cell_type": "code",
   "execution_count": 2,
   "id": "49aa9472-4ea4-44e0-9886-8ec9b0a57859",
   "metadata": {},
   "outputs": [
    {
     "name": "stdout",
     "output_type": "stream",
     "text": [
      "67\n"
     ]
    }
   ],
   "source": [
    "#Below are scenarios from 1 to 20 marked as #1 scenarios\n",
    "#1 scenario\n",
    "'''\n",
    ": You have a list of integers, and you need to find the maximum value in the list.\n",
    "#a. Question: How would you find the maximum value from the following list?\n",
    "'''\n",
    "num = [23, 56, 67, 12, 9.0, 24] #list of numbers\n",
    "print(max(num)) # to find the maximum value from the list"
   ]
  },
  {
   "cell_type": "code",
   "execution_count": 3,
   "id": "699e3ac6-7306-47d6-a81d-fc6247d6e766",
   "metadata": {},
   "outputs": [
    {
     "name": "stdout",
     "output_type": "stream",
     "text": [
      "['Anish', 'Bob', 'Ashish', 'Rome', 'Ravi', 'Deepa', 'JJ', 'Mohan']\n"
     ]
    }
   ],
   "source": [
    "#2 scenario\n",
    "'''\n",
    "You need to concatenate a list of strings into a single string, with each string separated by a comma.\n",
    "a. Question: How would you combine the following list of strings into a single string?\n",
    "'''\n",
    "name = [\"Anish\", \"Bob\", \"Ashish\",\"Rome\"]\n",
    "name2 = [\"Ravi\", \"Deepa\", \"JJ\", \"Mohan\"]\n",
    "name_all = name + name2\n",
    "print(name_all)"
   ]
  },
  {
   "cell_type": "code",
   "execution_count": 4,
   "id": "b4205017-5b81-45b7-a0ee-b33e5eea28df",
   "metadata": {},
   "outputs": [
    {
     "name": "stdout",
     "output_type": "stream",
     "text": [
      "32\n"
     ]
    }
   ],
   "source": [
    "#3 scenario\n",
    "'''\n",
    "You have a dictionary where the keys are names and the values are ages. You need to retrieve the age of a specific person.\n",
    "a. Question: How would you get the age of \"Dev\" from the following dictionary?\n",
    "'''\n",
    "employee_age = {\"Jim\":30, \"Dwight\":32, \"Micheal\":33, \"Dev\":32} #name and age of employees\n",
    "print(employee_age[\"Dev\"]) #from emplyee data set finding the age of Dev by specifying it"
   ]
  },
  {
   "cell_type": "code",
   "execution_count": 5,
   "id": "a0f378e6-dce0-45d9-a85c-ed96cd096524",
   "metadata": {},
   "outputs": [
    {
     "name": "stdout",
     "output_type": "stream",
     "text": [
      "[12, 13, 14, 16, 17, 19, 20]\n"
     ]
    }
   ],
   "source": [
    "#4 scenario\n",
    "'''\n",
    "You need to remove duplicate elements from a list while preserving the original order of elements.\n",
    "a. Question: How would you remove duplicates from the following list?\n",
    "'''\n",
    "age = [12,13,14,16,17,16,19,20] #doubel number 16\n",
    "age.pop(5) # pop will remove the specified index from the list, counting list element from 0\n",
    "print(age)"
   ]
  },
  {
   "cell_type": "code",
   "execution_count": 125,
   "id": "a6d44a76-0f48-4ccf-8912-6a4cfe877b0a",
   "metadata": {},
   "outputs": [
    {
     "name": "stdout",
     "output_type": "stream",
     "text": [
      "[1 2 3 4 5 6]\n",
      "21\n"
     ]
    }
   ],
   "source": [
    "#5 scenario\n",
    "'''\n",
    "You have a NumPy array and need to compute the sum of all its elements.\n",
    "a. Question: How would you find the sum of elements in the following NumPy array?\n",
    "'''\n",
    "import numpy as np #importing numpy \n",
    "nparray = np.array([1,2,3,4,5,6]) # nparray name of variable for array\n",
    "print(nparray)\n",
    "print(sum(nparray)) "
   ]
  },
  {
   "cell_type": "code",
   "execution_count": 53,
   "id": "ab57457a-5ac0-44b3-bc1e-ab1a096ac513",
   "metadata": {},
   "outputs": [
    {
     "name": "stdout",
     "output_type": "stream",
     "text": [
      "4 8\n"
     ]
    }
   ],
   "source": [
    "#6 scenario\n",
    "'''\n",
    "You have a 2D NumPy array and need to get the maximum value from each column.\n",
    "a. Question: How would you find the maximum values for each column in the following array?\n",
    "'''\n",
    "import numpy as np\n",
    "arr = np.array([[1,2,3,4],[5,6,7,8]]) #columns in 2D, self written\n",
    "print(max(arr[0]),max(arr[1])) # finding max values from both columns"
   ]
  },
  {
   "cell_type": "code",
   "execution_count": 127,
   "id": "598f9dba-4368-4c4b-ab8a-4de3e7f8070a",
   "metadata": {},
   "outputs": [
    {
     "name": "stdout",
     "output_type": "stream",
     "text": [
      "{'name': ['Anastasia', 'Dima', 'Katherine', 'James', 'Emily', 'Michael', 'Matthew', 'Laura', 'Kevin', 'Jonas'], 'score': [12.5, 9, 16.5, nan, 9, 20, 14.5, nan, 8, 19], 'attempts': [1, 3, 2, 3, 2, 3, 1, 1, 2, 1], 'qualify': ['yes', 'no', 'yes', 'no', 'no', 'yes', 'yes', 'no', 'no', 'yes']}\n"
     ]
    }
   ],
   "source": [
    "#7 scenario\n",
    "'''\n",
    "You have a DataFrame and need to sort it by a specific column.\n",
    "a. Question: How would you sort the DataFrame by the \"Age\" column?\n",
    "'''\n",
    "import numpy as np\n",
    "import pandas as pd\n",
    "exam_data  = {'name': ['Anastasia', 'Dima', 'Katherine', 'James', 'Emily', 'Michael', 'Matthew', 'Laura', 'Kevin', 'Jonas'],\n",
    "        'score': [12.5, 9, 16.5, np.nan, 9, 20, 14.5, np.nan, 8, 19],\n",
    "        'attempts': [1, 3, 2, 3, 2, 3, 1, 1, 2, 1],\n",
    "        'qualify': ['yes', 'no', 'yes', 'no', 'no', 'yes', 'yes', 'no', 'no', 'yes']}\n",
    "print(exam_data)"
   ]
  },
  {
   "cell_type": "code",
   "execution_count": null,
   "id": "159d4451-b897-42d9-94e0-e5c9687c02bb",
   "metadata": {},
   "outputs": [],
   "source": [
    "#8 scenario\n",
    "'''\n",
    "You need to calculate the total sum of a column in a DataFrame.\n",
    "a. Question: How would you find the sum of the \"Sales\" column?\n",
    "''' \n",
    "df['Sales'].sum()"
   ]
  },
  {
   "cell_type": "code",
   "execution_count": 55,
   "id": "72e4bf51-0d97-480f-a98b-4fbf2c1e9262",
   "metadata": {},
   "outputs": [
    {
     "name": "stdout",
     "output_type": "stream",
     "text": [
      "<class 'int'>\n"
     ]
    }
   ],
   "source": [
    "#9 scenario\n",
    "'''\n",
    ": You need to check if a variable is of type int.\n",
    "a. Question: How would you verify if a variable x is an integer?\n",
    "'''\n",
    "x = 12\n",
    "print(type(x))"
   ]
  },
  {
   "cell_type": "code",
   "execution_count": 3,
   "id": "48e02c0c-4824-49ee-9cfc-f41f26990dec",
   "metadata": {},
   "outputs": [
    {
     "ename": "AttributeError",
     "evalue": "'float' object has no attribute 'isdigit'",
     "output_type": "error",
     "traceback": [
      "\u001b[1;31m---------------------------------------------------------------------------\u001b[0m",
      "\u001b[1;31mAttributeError\u001b[0m                            Traceback (most recent call last)",
      "Cell \u001b[1;32mIn[3], line 7\u001b[0m\n\u001b[0;32m      2\u001b[0m \u001b[38;5;124;03m'''\u001b[39;00m\n\u001b[0;32m      3\u001b[0m \u001b[38;5;124;03m: You have a list of mixed types and need to create separate lists for integers, floats, and strings.\u001b[39;00m\n\u001b[0;32m      4\u001b[0m \u001b[38;5;124;03ma. Question: How would you categorize the following mixed list into different types?\u001b[39;00m\n\u001b[0;32m      5\u001b[0m \u001b[38;5;124;03m'''\u001b[39;00m\n\u001b[0;32m      6\u001b[0m mix_lists \u001b[38;5;241m=\u001b[39m [\u001b[38;5;241m12.9\u001b[39m,\u001b[38;5;241m23.1\u001b[39m, \u001b[38;5;241m45\u001b[39m,\u001b[38;5;241m55\u001b[39m,\u001b[38;5;124m\"\u001b[39m\u001b[38;5;124mAnish\u001b[39m\u001b[38;5;124m\"\u001b[39m, \u001b[38;5;124m\"\u001b[39m\u001b[38;5;124mJJ\u001b[39m\u001b[38;5;124m\"\u001b[39m]\n\u001b[1;32m----> 7\u001b[0m res \u001b[38;5;241m=\u001b[39m \u001b[38;5;28msorted\u001b[39m(mix_lists, key \u001b[38;5;241m=\u001b[39m \u001b[38;5;28;01mlambda\u001b[39;00m ele: (\u001b[38;5;241m0\u001b[39m, \u001b[38;5;28mint\u001b[39m(ele))\n\u001b[0;32m      8\u001b[0m                         \u001b[38;5;28;01mif\u001b[39;00m ele\u001b[38;5;241m.\u001b[39misdigit() \u001b[38;5;28;01melse\u001b[39;00m (\u001b[38;5;241m1\u001b[39m, ele))\n\u001b[0;32m      9\u001b[0m \u001b[38;5;28mprint\u001b[39m(\u001b[38;5;28mstr\u001b[39m(res))\n",
      "Cell \u001b[1;32mIn[3], line 8\u001b[0m, in \u001b[0;36m<lambda>\u001b[1;34m(ele)\u001b[0m\n\u001b[0;32m      2\u001b[0m \u001b[38;5;124;03m'''\u001b[39;00m\n\u001b[0;32m      3\u001b[0m \u001b[38;5;124;03m: You have a list of mixed types and need to create separate lists for integers, floats, and strings.\u001b[39;00m\n\u001b[0;32m      4\u001b[0m \u001b[38;5;124;03ma. Question: How would you categorize the following mixed list into different types?\u001b[39;00m\n\u001b[0;32m      5\u001b[0m \u001b[38;5;124;03m'''\u001b[39;00m\n\u001b[0;32m      6\u001b[0m mix_lists \u001b[38;5;241m=\u001b[39m [\u001b[38;5;241m12.9\u001b[39m,\u001b[38;5;241m23.1\u001b[39m, \u001b[38;5;241m45\u001b[39m,\u001b[38;5;241m55\u001b[39m,\u001b[38;5;124m\"\u001b[39m\u001b[38;5;124mAnish\u001b[39m\u001b[38;5;124m\"\u001b[39m, \u001b[38;5;124m\"\u001b[39m\u001b[38;5;124mJJ\u001b[39m\u001b[38;5;124m\"\u001b[39m]\n\u001b[0;32m      7\u001b[0m res \u001b[38;5;241m=\u001b[39m \u001b[38;5;28msorted\u001b[39m(mix_lists, key \u001b[38;5;241m=\u001b[39m \u001b[38;5;28;01mlambda\u001b[39;00m ele: (\u001b[38;5;241m0\u001b[39m, \u001b[38;5;28mint\u001b[39m(ele))\n\u001b[1;32m----> 8\u001b[0m                         \u001b[38;5;28;01mif\u001b[39;00m ele\u001b[38;5;241m.\u001b[39misdigit() \u001b[38;5;28;01melse\u001b[39;00m (\u001b[38;5;241m1\u001b[39m, ele))\n\u001b[0;32m      9\u001b[0m \u001b[38;5;28mprint\u001b[39m(\u001b[38;5;28mstr\u001b[39m(res))\n",
      "\u001b[1;31mAttributeError\u001b[0m: 'float' object has no attribute 'isdigit'"
     ]
    }
   ],
   "source": [
    "#10 scenario\n",
    "'''\n",
    ": You have a list of mixed types and need to create separate lists for integers, floats, and strings.\n",
    "a. Question: How would you categorize the following mixed list into different types?\n",
    "'''\n",
    "mix_lists = [12.9,23.1, 45,55,\"Anish\", \"JJ\"]\n",
    "res = sorted(mix_lists, key = lambda ele: (0, int(ele))\n",
    "                        if ele.isdigit() else (1, ele))\n",
    "print(str(res))"
   ]
  },
  {
   "cell_type": "code",
   "execution_count": 177,
   "id": "4a0e5533-ac95-41ea-992b-b882e2396a7c",
   "metadata": {},
   "outputs": [
    {
     "name": "stdout",
     "output_type": "stream",
     "text": [
      "['2', ' 3.4', ' 5', ' 3', ' 6.2', ' 4', ' 7']\n"
     ]
    },
    {
     "data": {
      "text/plain": [
       "list"
      ]
     },
     "execution_count": 177,
     "metadata": {},
     "output_type": "execute_result"
    }
   ],
   "source": [
    "#11 scenario\n",
    "'''\n",
    "You are given a string of comma-separated numbers. You need to convert this string into a list of integers.\n",
    "a. Question: How would you achieve this conversion?\n",
    "'''\n",
    "s = '2, 3.4, 5, 3, 6.2, 4, 7' #string to list of intergers\n",
    "\n",
    "i = s.split(',')\n",
    "print(i)\n",
    "type(i)"
   ]
  },
  {
   "cell_type": "code",
   "execution_count": 147,
   "id": "c106eb78-c21a-4f55-a577-6f10a23336a5",
   "metadata": {},
   "outputs": [
    {
     "name": "stdout",
     "output_type": "stream",
     "text": [
      "['Anish', 'is', 'name', 'My']\n",
      "Anish is name My\n"
     ]
    }
   ],
   "source": [
    "#12 scenario\n",
    "'''\n",
    ": You need to reverse the words in a sentence while keeping the order of the words intact.\n",
    "a. Question: How would you reverse each word in the following sentence?\n",
    "'''\n",
    "\n",
    "x = \"My name is Anish\"\n",
    "y = x.split(' ') # used the space between the word to slice, so My 0, name 1, is 2, Anish 3\n",
    "r = y[::-1] # revesed the way it comes in r with :: -1(::-1 indicates show all starting from -1) starting from end, \n",
    "            #taking Anish first eg: Anish -1,is -2,name -3, My -4  \n",
    "e = y[::-1] # checking \n",
    "z = ' '.join(r) # joined the words with space ' ' in z \n",
    "\n",
    "print(e)\n",
    "print(z)\n",
    "\n"
   ]
  },
  {
   "cell_type": "code",
   "execution_count": 83,
   "id": "025ec581-24f8-4a0e-812b-9d5c97cc192b",
   "metadata": {},
   "outputs": [
    {
     "name": "stdout",
     "output_type": "stream",
     "text": [
      "{'Anish': 27, 'Dev': 34, 'Ashish': 33, 'Raj': 26}\n"
     ]
    }
   ],
   "source": [
    "#13 scenario\n",
    "'''\n",
    "You need to combine two lists into a dictionary where the elements of the first list are keys and the elements of the second list are values.\n",
    "a. Question: How would you combine the following lists into a dictionary?\n",
    "'''\n",
    "\n",
    "name = [\"Anish\", \"Dev\", \"Ashish\", \"Raj\"]\n",
    "Age = [27, 34, 33, 26]\n",
    "result = {name[i]: Age[i] for i in range(len(name))}\n",
    "print(str(result))"
   ]
  },
  {
   "cell_type": "code",
   "execution_count": 9,
   "id": "77ff7e69-11af-475d-97b6-c071048f7ceb",
   "metadata": {},
   "outputs": [
    {
     "ename": "NameError",
     "evalue": "name 'age' is not defined",
     "output_type": "error",
     "traceback": [
      "\u001b[1;31m---------------------------------------------------------------------------\u001b[0m",
      "\u001b[1;31mNameError\u001b[0m                                 Traceback (most recent call last)",
      "Cell \u001b[1;32mIn[9], line 7\u001b[0m\n\u001b[0;32m      2\u001b[0m \u001b[38;5;124;03m'''\u001b[39;00m\n\u001b[0;32m      3\u001b[0m \u001b[38;5;124;03mYou are given a list of tuples where each tuple contains a name and an age. You need to sort this list by age.\u001b[39;00m\n\u001b[0;32m      4\u001b[0m \u001b[38;5;124;03ma. Question: How would you sort the following list of tuples by age?\u001b[39;00m\n\u001b[0;32m      5\u001b[0m \u001b[38;5;124;03m'''\u001b[39;00m\n\u001b[0;32m      6\u001b[0m data \u001b[38;5;241m=\u001b[39m [(\u001b[38;5;124m'\u001b[39m\u001b[38;5;124mAnish\u001b[39m\u001b[38;5;124m'\u001b[39m, \u001b[38;5;241m26\u001b[39m), (\u001b[38;5;124m'\u001b[39m\u001b[38;5;124mBob\u001b[39m\u001b[38;5;124m'\u001b[39m, \u001b[38;5;241m24\u001b[39m), (\u001b[38;5;124m'\u001b[39m\u001b[38;5;124mJJ\u001b[39m\u001b[38;5;124m'\u001b[39m, \u001b[38;5;241m28\u001b[39m),(\u001b[38;5;124m'\u001b[39m\u001b[38;5;124mNick\u001b[39m\u001b[38;5;124m'\u001b[39m, \u001b[38;5;241m20\u001b[39m)]\n\u001b[1;32m----> 7\u001b[0m \u001b[38;5;28msorted\u001b[39m(data(age))\n",
      "\u001b[1;31mNameError\u001b[0m: name 'age' is not defined"
     ]
    }
   ],
   "source": [
    "#14 scenario\n",
    "'''\n",
    "You are given a list of tuples where each tuple contains a name and an age. You need to sort this list by age.\n",
    "a. Question: How would you sort the following list of tuples by age?\n",
    "'''\n",
    "data = [('Anish', 26), ('Bob', 24), ('JJ', 28),('Nick', 20)]\n",
    "sorted(data(age))"
   ]
  },
  {
   "cell_type": "code",
   "execution_count": 103,
   "id": "9c5cde01-6e9b-4e3e-9337-2c9030a56a35",
   "metadata": {},
   "outputs": [
    {
     "name": "stdout",
     "output_type": "stream",
     "text": [
      "[[1 2 3]\n",
      " [4 5 6]]\n",
      "[2. 5.]\n"
     ]
    }
   ],
   "source": [
    "#15 scenario\n",
    "'''\n",
    "You have a 2D NumPy array and need to calculate the mean value of each row.\n",
    "a. Question: How would you compute the mean value for each row in the following array?\n",
    "'''\n",
    "import numpy as np\n",
    "ndarray2 = np.array([[1,2,3],[4,5,6]])\n",
    "print(ndarray2)\n",
    "print(np.mean(ndarray2, axis = 1)) #for row use axis =1 and colum axis = 0"
   ]
  },
  {
   "cell_type": "code",
   "execution_count": 175,
   "id": "9ef14da2-68e7-491f-9947-493cdf4f32a3",
   "metadata": {},
   "outputs": [
    {
     "name": "stdout",
     "output_type": "stream",
     "text": [
      "[0. 0. 0. 0. 0. 0. 0. 0. 0. 0.]\n"
     ]
    },
    {
     "data": {
      "text/plain": [
       "0.0"
      ]
     },
     "execution_count": 175,
     "metadata": {},
     "output_type": "execute_result"
    }
   ],
   "source": [
    "#16 scenario\n",
    "'''\n",
    "You need to create a NumPy array of size 10 filled with zeros, and then set the fifth element to 5.\n",
    "a. Question: How would you create and modify the array as described?\n",
    "'''\n",
    "import numpy as np\n",
    "x = np.zeros(10)\n",
    "print(x)\n",
    "x[5]\n"
   ]
  },
  {
   "cell_type": "code",
   "execution_count": 117,
   "id": "4816502e-2739-408a-bbb6-974986e06564",
   "metadata": {},
   "outputs": [
    {
     "name": "stdout",
     "output_type": "stream",
     "text": [
      "15.5\n"
     ]
    }
   ],
   "source": [
    "#17 scenario\n",
    "'''\n",
    "You have a DataFrame and need to find the median of a numeric column.\n",
    "a. Question: How would you find the median of the \"Scores\" column in the following DataFrame?\n",
    "'''\n",
    "\n",
    "import numpy as np\n",
    "import pandas as pd\n",
    "exam_data = {'name': ['Anastasia', 'Dima', 'Katherine', 'James', 'Emily', 'Michael', 'Matthew', 'Laura', 'Kevin', 'Jonas'],\n",
    "        'score': [12.5, 9, 16.5, 23, 9, 20, 14.5, 34, 8, 19],\n",
    "        'attempts': [1, 3, 2, 3, 2, 3, 1, 1, 2, 1],\n",
    "        'qualify': ['yes', 'no', 'yes', 'no', 'no', 'yes', 'yes', 'no', 'no', 'yes']}\n",
    "\n",
    "df = pd.DataFrame(exam_data) # search engine was used \n",
    "print(df['score'].median()) "
   ]
  },
  {
   "cell_type": "code",
   "execution_count": null,
   "id": "99e2aafb-ad55-48ce-9267-c200a8f897b9",
   "metadata": {},
   "outputs": [],
   "source": [
    "#18 scenario\n",
    "'''\n",
    "You need to filter rows where the value in the \"Sales\" column is above 100 and then sort these rows by \"Date\" in descending order.\n",
    "a. Question: How would you filter and sort the DataFrame based on the given criteria?\n",
    "'''\n",
    "df['Sales'] = pd.to_datetime(df['Sales'])\n",
    "df.sort_values(by='Sales', ascending=False)\n"
   ]
  },
  {
   "cell_type": "code",
   "execution_count": 157,
   "id": "b7f7cfd5-f2a8-40e4-b152-b2944d897766",
   "metadata": {},
   "outputs": [
    {
     "data": {
      "text/plain": [
       "str"
      ]
     },
     "execution_count": 157,
     "metadata": {},
     "output_type": "execute_result"
    }
   ],
   "source": [
    "#19 scenario\n",
    "'''\n",
    ": You have a string containing a number and need to convert it to an integer. Additionally, handle \n",
    "  the case where the string might not represent a valid integer.\n",
    "a. Question: How would you safely convert the string \"42\" to an integer and handle invalid cases?\n",
    "'''\n",
    "name = \"42\"\n",
    "type(name)"
   ]
  },
  {
   "cell_type": "code",
   "execution_count": 153,
   "id": "9e4df276-c5ed-4173-a200-9b6ad21e1d29",
   "metadata": {},
   "outputs": [
    {
     "data": {
      "text/plain": [
       "('Anish', 'Bob')"
      ]
     },
     "execution_count": 153,
     "metadata": {},
     "output_type": "execute_result"
    }
   ],
   "source": [
    "#20 scenario\n",
    "'''\n",
    "You have a list containing different data types, and you want to separate out all the strings.\n",
    "a. Question: How would you extract all string elements from the following list?\n",
    "'''\n",
    "list1 = [\"Anish\", 12, 56.9, 23, \"Bob\"]\n",
    "list1[0],list1[4]\n"
   ]
  },
  {
   "cell_type": "code",
   "execution_count": null,
   "id": "6626aef0-03e5-4778-8962-0790c8122168",
   "metadata": {},
   "outputs": [],
   "source": []
  }
 ],
 "metadata": {
  "kernelspec": {
   "display_name": "Python 3 (ipykernel)",
   "language": "python",
   "name": "python3"
  },
  "language_info": {
   "codemirror_mode": {
    "name": "ipython",
    "version": 3
   },
   "file_extension": ".py",
   "mimetype": "text/x-python",
   "name": "python",
   "nbconvert_exporter": "python",
   "pygments_lexer": "ipython3",
   "version": "3.12.4"
  }
 },
 "nbformat": 4,
 "nbformat_minor": 5
}
